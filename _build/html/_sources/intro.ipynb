{
 "cells": [
  {
   "cell_type": "markdown",
   "id": "c16f054c",
   "metadata": {},
   "source": [
    "# Machine Learning-Based Causal Inference\n",
    "\n",
    "This JupyterBook has been created based on the tutorials of the course MGTECON 634 at Stanford taught by Professor Susan Athey. All the scripts were in R-markdown and we decided to translate each of them into Python, so students can manage both programing languages. We aim to add more empirical examples were the ML and CI tools can be applied using both programming languages.\n",
    "\n",
    "\n",
    "```{tableofcontents}\n",
    "```\n",
    "\n",
    "\n",
    "```{admonition} Previous website\n",
    "This JupyterBook will receive future updates. It's a draft. Not ready for publication.\n",
    "```\n",
    "\n",
    "```{admonition} Who is the book for? :class: important\n",
    "You can find all these Python scripts in this [repository](https://github.com/alexanderquispe/MGTECON634_jupyterbook). \n",
    "```"
   ]
  }
 ],
 "metadata": {
  "jupytext": {
   "text_representation": {
    "extension": ".md",
    "format_name": "myst"
   }
  },
  "kernelspec": {
   "display_name": "Python 3",
   "language": "python",
   "name": "python3"
  },
  "language_info": {
   "codemirror_mode": {
    "name": "ipython",
    "version": 3
   },
   "file_extension": ".py",
   "mimetype": "text/x-python",
   "name": "python",
   "nbconvert_exporter": "python",
   "pygments_lexer": "ipython3",
   "version": "3.9.7"
  },
  "source_map": [
   10
  ]
 },
 "nbformat": 4,
 "nbformat_minor": 5
}